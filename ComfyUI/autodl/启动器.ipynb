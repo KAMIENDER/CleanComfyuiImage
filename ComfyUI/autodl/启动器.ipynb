{
 "cells": [
  {
   "cell_type": "markdown",
   "id": "01f19ac5-41e3-4f66-bf18-14ec6c540d6d",
   "metadata": {},
   "source": [
    "## 说明\n",
    "\n",
    "![](https://oss.talesofai.cn/public/s_2023-04-13%20at%2022.28.22.png?cc0429)\n",
    "- 启动和重启 webui 点上方工具栏中的「重启并运行所有单元格」。出现 `http://0.0.0.0:6006` 这个字样就算成功了。可以去 autodl 控制台打开「自定义服务」了\n",
    "- 首次启动需要下载基本的模型，请稍等几分钟\n",
    "- 镜像在 4090, A5000, 3090, 3080 上测试没问题\n",
    "- 模型路径：`/root/autodl-tmp/models` 或者 `/root/autodl-fs/models` 里的对应目录下\n",
    "- 生成文件路径：`/root/ComfyUI/output`\n",
    "- 需要预置的插件的url链接可以放在ComfyUI/installation/custom_nodes_url.txt中\n",
    "  - 比如：https://github.com/theUpsider/ComfyUI-Logic"
   ]
  },
  {
   "cell_type": "code",
   "execution_count": null,
   "id": "1e92188e-2325-4d48-8f17-5f56bc630418",
   "metadata": {},
   "outputs": [],
   "source": [
    "# 初始化\n",
    "# !bash /root/CleanComfyuiImage/common/scripts/init-download.sh checkpoint_sdxl\n",
    "# !bash /root/CleanComfyuiImage/common/scripts/init-download.sh vae\n",
    "# !bash /root/CleanComfyuiImage/common/scripts/init-download.sh lora\n",
    "# !bash /root/CleanComfyuiImage/common/scripts/init-download.sh embeddings\n",
    "# !bash /root/CleanComfyuiImage/common/scripts/init-download.sh animatediff_model\n",
    "# !bash /root/CleanComfyuiImage/common/scripts/init-download.sh animatediff_lora\n",
    "# !bash /root/CleanComfyuiImage/common/scripts/init-download.sh segment_anything\n",
    "# !bash /root/CleanComfyuiImage/common/scripts/init-download.sh upscaler\n",
    "# !bash /root/CleanComfyuiImage/common/scripts/init-download.sh ip_adapter\n",
    "# !bash /root/CleanComfyuiImage/common/scripts/init-download.sh clip_vision\n",
    "# !bash /root/CleanComfyuiImage/common/scripts/init-download.sh ollama\n",
    "# !bash /root/CleanComfyuiImage/common/scripts/init-download.sh unet\n",
    "# !bash /root/CleanComfyuiImage/common/scripts/init-download.sh in_context_lora\n",
    "\n",
    "#!bash /root/CleanComfyuiImage/common/scripts/init-download.sh checkpoint_sd15\n",
    "#!bash /root/CleanComfyuiImage/common/scripts/init-download.sh controlnet_sd15_v1_1_lite\n",
    "#!bash /root/CleanComfyuiImage/common/scripts/init-download.sh svd\n",
    "#!bash /root/CleanComfyuiImage/common/scripts/init-download.sh ip_adapter_faceid"
   ]
  },
  {
   "cell_type": "code",
   "execution_count": null,
   "id": "eda24573-1fab-4725-8710-6ee6a3a0f06c",
   "metadata": {},
   "outputs": [],
   "source": [
    "# 启动\n",
    "!bash /root/CleanComfyuiImage/ComfyUI/autodl/scripts/start.sh"
   ]
  }
 ],
 "metadata": {
  "kernelspec": {
   "display_name": "Python 3 (ipykernel)",
   "language": "python",
   "name": "python3"
  },
  "language_info": {
   "codemirror_mode": {
    "name": "ipython",
    "version": 3
   },
   "file_extension": ".py",
   "mimetype": "text/x-python",
   "name": "python",
   "nbconvert_exporter": "python",
   "pygments_lexer": "ipython3",
   "version": "3.10.8"
  }
 },
 "nbformat": 4,
 "nbformat_minor": 5
}
